{
 "cells": [
  {
   "cell_type": "markdown",
   "metadata": {},
   "source": [
    "# Les collections \n",
    "En Python, les collections sont des structures de données qui permettent de stocker et de manipuler des ensembles d'éléments.\n",
    "## Les listes\n",
    " Les listes sont des collections ordonnées et modifiables d'éléments. Elles peuvent contenir des éléments de différents types de données et permettent l'ajout, la suppression et la modification des éléments. \n",
    " ### Création de Listes\n",
    "  Une liste peut être créée en plaçant une série d'éléments entre crochets ([]), séparés par des virgules:\n",
    " "
   ]
  },
  {
   "cell_type": "code",
   "execution_count": 65,
   "metadata": {},
   "outputs": [],
   "source": [
    "# Liste vide\n",
    "liste_vide = []\n",
    "\n",
    "# Liste avec des éléments\n",
    "fruits = [\"pomme\", \"banane\", \"cerise\"]\n"
   ]
  },
  {
   "cell_type": "markdown",
   "metadata": {},
   "source": [
    "##### Accès aux Éléments\n",
    "Les éléments d'une liste sont accessibles via leur index, qui commence à 0."
   ]
  },
  {
   "cell_type": "code",
   "execution_count": 66,
   "metadata": {},
   "outputs": [
    {
     "name": "stdout",
     "output_type": "stream",
     "text": [
      "3\n",
      "1\n",
      "b\n"
     ]
    }
   ],
   "source": [
    "liste = [1, 2, 3, 'a', 'b', 'c']\n",
    "print(liste[2]) # Affiche 3\n",
    "print(liste[0])  # Affiche 1\n",
    "print(liste[4])  # Affiche \"b\""
   ]
  },
  {
   "cell_type": "markdown",
   "metadata": {},
   "source": [
    "#### Modification d'Éléments\n",
    "Vous pouvez modifier les éléments d'une liste en accédant directement à l'index."
   ]
  },
  {
   "cell_type": "code",
   "execution_count": 67,
   "metadata": {},
   "outputs": [
    {
     "name": "stdout",
     "output_type": "stream",
     "text": [
      "['pomme', 'orange', 'cerise']\n"
     ]
    }
   ],
   "source": [
    "fruits = [\"pomme\", \"banane\", \"cerise\"]\n",
    "fruits[1] = \"orange\"\n",
    "print(fruits)  # Affiche ['pomme', 'orange', 'cerise']\n"
   ]
  },
  {
   "cell_type": "markdown",
   "metadata": {},
   "source": [
    "#### Ajout d'Éléments\n",
    "Vous pouvez ajouter des éléments à une liste de plusieurs manières:\n",
    "\n",
    "Append: Ajoute un élément à la fin."
   ]
  },
  {
   "cell_type": "code",
   "execution_count": 68,
   "metadata": {},
   "outputs": [
    {
     "name": "stdout",
     "output_type": "stream",
     "text": [
      "['pomme', 'orange', 'cerise', 'mangue']\n"
     ]
    }
   ],
   "source": [
    "fruits = [\"pomme\", \"orange\", \"cerise\"]\n",
    "fruits.append(\"mangue\")\n",
    "print(fruits)  # Affiche ['pomme', 'orange', 'cerise', 'mangue']\n",
    "\n"
   ]
  },
  {
   "cell_type": "markdown",
   "metadata": {},
   "source": [
    "Insert: Insère un élément à un index spécifique."
   ]
  },
  {
   "cell_type": "code",
   "execution_count": 69,
   "metadata": {},
   "outputs": [
    {
     "name": "stdout",
     "output_type": "stream",
     "text": [
      "['pomme', 'fraise', 'orange', 'cerise', 'mangue']\n"
     ]
    }
   ],
   "source": [
    "fruits = ['pomme', 'orange', 'cerise', 'mangue']\n",
    "fruits.insert(1, \"fraise\")\n",
    "print(fruits)  # Affiche ['pomme', 'fraise', 'orange', 'cerise', 'mangue']\n",
    "\n"
   ]
  },
  {
   "cell_type": "markdown",
   "metadata": {},
   "source": [
    "##### Extend: Ajoute plusieurs éléments à la fin.\n"
   ]
  },
  {
   "cell_type": "code",
   "execution_count": 70,
   "metadata": {},
   "outputs": [
    {
     "name": "stdout",
     "output_type": "stream",
     "text": [
      "['pomme', 'fraise', 'orange', 'cerise', 'mangue', 'raisin', 'ananas']\n"
     ]
    }
   ],
   "source": [
    "fruits = ['pomme', 'orange', 'cerise', 'mangue']\n",
    "fruits.insert(1, \"fraise\")\n",
    "fruits.extend([\"raisin\", \"ananas\"])\n",
    "print(fruits)  # Affiche ['pomme', 'fraise', 'orange', 'cerise', 'mangue', 'raisin', 'ananas']\n"
   ]
  },
  {
   "cell_type": "markdown",
   "metadata": {},
   "source": [
    "#### Suppression d'Éléments\n",
    "Il existe plusieurs méthodes pour supprimer des éléments d'une liste:"
   ]
  },
  {
   "cell_type": "code",
   "execution_count": 71,
   "metadata": {},
   "outputs": [
    {
     "name": "stdout",
     "output_type": "stream",
     "text": [
      "['pomme', 'fraise', 'orange', 'mangue', 'raisin', 'ananas', 'cerise']\n",
      "cerise\n",
      "['pomme', 'fraise', 'orange', 'mangue', 'raisin', 'ananas']\n",
      "['pomme', 'orange', 'mangue', 'raisin', 'ananas']\n",
      "['pomme', 'raisin', 'ananas']\n"
     ]
    }
   ],
   "source": [
    "#Remove: Supprime la première occurrence d'un élément spécifique.\n",
    "fruits=['pomme', 'fraise', 'orange', 'cerise', 'mangue', 'raisin', 'ananas', 'cerise']\n",
    "fruits.remove(\"cerise\")\n",
    "print(fruits)  # Affiche ['pomme', 'fraise', 'orange', 'mangue', 'raisin', 'ananas', 'cerise']\n"
   ]
  },
  {
   "cell_type": "code",
   "execution_count": null,
   "metadata": {},
   "outputs": [],
   "source": [
    "\n",
    "#Pop: Supprime et renvoie l'élément à un index spécifique (par défaut le dernier).\n",
    "dernier_fruit = fruits.pop()\n",
    "print(dernier_fruit)  # Affiche 'cerise'\n"
   ]
  },
  {
   "cell_type": "code",
   "execution_count": null,
   "metadata": {},
   "outputs": [],
   "source": [
    "print(fruits)         # Affiche ['pomme', 'fraise', 'orange', 'mangue', 'raisin', 'ananas']\n",
    "\n",
    "#Del: Supprime un élément ou une tranche d'éléments.\n",
    "del fruits[1]\n",
    "print(fruits)  # Affiche ['pomme', 'orange', 'mangue', 'raisin', 'cerise']\n",
    "del fruits[1:3] \n",
    "print(fruits)  # Affiche ['pomme','raisin','cerise']\n",
    "\n",
    "\n"
   ]
  },
  {
   "cell_type": "code",
   "execution_count": null,
   "metadata": {},
   "outputs": [],
   "source": [
    "\n",
    "#Pop: Supprime et renvoie l'élément à un index spécifique (par défaut le dernier).\n",
    "dernier_fruit = fruits.pop()\n",
    "print(dernier_fruit)  # Affiche 'cerise'\n",
    "print(fruits)         # Affiche ['pomme', 'fraise', 'orange', 'mangue', 'raisin', 'ananas']\n",
    "\n",
    "#Del: Supprime un élément ou une tranche d'éléments.\n",
    "del fruits[1]\n",
    "print(fruits)  # Affiche ['pomme', 'orange', 'mangue', 'raisin', 'cerise']\n",
    "del fruits[1:3] \n",
    "print(fruits)  # Affiche ['pomme','raisin','cerise']\n",
    "\n",
    "\n"
   ]
  },
  {
   "cell_type": "markdown",
   "metadata": {},
   "source": [
    "#### Tranches (Slicing)\n",
    "Les tranches permettent d'extraire une partie d'une liste."
   ]
  },
  {
   "cell_type": "code",
   "execution_count": 72,
   "metadata": {},
   "outputs": [
    {
     "name": "stdout",
     "output_type": "stream",
     "text": [
      "['fraise', 'orange', 'cerise']\n"
     ]
    }
   ],
   "source": [
    "fruits=['pomme', 'fraise', 'orange', 'cerise', 'mangue', 'raisin', 'ananas', 'cerise']\n",
    "sous_liste = fruits[1:4]\n",
    "print(sous_liste)  # Affiche ['fraise','orange', 'cerise']\n"
   ]
  },
  {
   "cell_type": "markdown",
   "metadata": {},
   "source": [
    "##### Opérations Courantes\n"
   ]
  },
  {
   "cell_type": "code",
   "execution_count": 73,
   "metadata": {},
   "outputs": [
    {
     "name": "stdout",
     "output_type": "stream",
     "text": [
      "8\n",
      "True\n",
      "False\n",
      "['ananas', 'cerise', 'cerise', 'fraise', 'mangue', 'orange', 'pomme', 'raisin']\n",
      "['raisin', 'pomme', 'orange', 'mangue', 'fraise', 'cerise', 'cerise', 'ananas']\n"
     ]
    }
   ],
   "source": [
    "fruits=['pomme', 'fraise', 'orange', 'cerise', 'mangue', 'raisin', 'ananas', 'cerise']\n",
    "\n",
    "#Longueur: Nombre d'éléments dans la liste.\n",
    "print(len(fruits))  # Affiche 8\n",
    "\n",
    "#Vérification de présence: Tester si un élément est dans la liste.\n",
    "print(\"pomme\" in fruits)  # Affiche True\n",
    "print(\"qqq\" in fruits)  # Affiche false\n",
    "\n",
    "#Tri: Trier les éléments de la liste.\n",
    "fruits.sort()\n",
    "print(fruits)  # Affiche ['ananas', 'cerise', 'cerise', 'fraise', 'mangue', 'orange', 'pomme', 'raisin']\n",
    "\n",
    "#Réversion: Inverser l'ordre des éléments.\n",
    "fruits.reverse()\n",
    "print(fruits)  # Affiche ['raisin', 'pomme', 'orange', 'mangue', 'fraise', 'cerise', 'cerise', 'ananas']\n",
    "\n",
    "\n",
    "\n"
   ]
  },
  {
   "cell_type": "markdown",
   "metadata": {},
   "source": [
    "##### Copie de Listes\n",
    "Pour copier une liste, utilisez une des méthodes suivantes pour éviter les références partagées:"
   ]
  },
  {
   "cell_type": "code",
   "execution_count": 74,
   "metadata": {},
   "outputs": [
    {
     "name": "stdout",
     "output_type": "stream",
     "text": [
      "['fraise', 'orange', 'cerise']\n",
      "['pomme', 'fraise', 'orange', 'cerise', 'mangue', 'raisin', 'ananas', 'cerise']\n"
     ]
    }
   ],
   "source": [
    "fruits=['pomme', 'fraise', 'orange', 'cerise', 'mangue', 'raisin', 'ananas', 'cerise']\n",
    "#Copie par tranches:\n",
    "print(fruits[1:4]) #['fraise', 'orange', 'cerise']\n",
    "\n",
    "#Méthode copy:\n",
    "copie_fruits = fruits.copy()\n",
    "print(copie_fruits)"
   ]
  },
  {
   "cell_type": "markdown",
   "metadata": {},
   "source": [
    "#### Listes de Listes (Listes imbriquées)\n",
    "Les listes peuvent contenir d'autres listes, ce qui permet de créer des structures de données complexes."
   ]
  },
  {
   "cell_type": "code",
   "execution_count": 75,
   "metadata": {},
   "outputs": [
    {
     "name": "stdout",
     "output_type": "stream",
     "text": [
      "6\n"
     ]
    }
   ],
   "source": [
    "matrice = [[1, 2, 3], [4, 5, 6], [7, 8, 9]]\n",
    "print(matrice[1][2])  # Affiche 6\n"
   ]
  },
  {
   "cell_type": "code",
   "execution_count": 76,
   "metadata": {},
   "outputs": [
    {
     "name": "stdout",
     "output_type": "stream",
     "text": [
      "1\n",
      "[1, 2, 4, 5, 6]\n"
     ]
    }
   ],
   "source": [
    "# En resume\n",
    "# Création d'une liste de nombres\n",
    "nombres = [1, 2, 3, 4, 5]\n",
    "\n",
    "# Ajouter un élément\n",
    "nombres.append(6)\n",
    "\n",
    "# Retirer un élément\n",
    "nombres.remove(3)\n",
    "\n",
    "# Accéder au premier élément\n",
    "print(nombres[0])\n",
    "\n",
    "# Afficher la liste complète\n",
    "print(nombres)\n"
   ]
  },
  {
   "cell_type": "markdown",
   "metadata": {},
   "source": [
    "## Les Tuples\n",
    "Les tuples sont des structures de données ordonnées et immuables qui permettent de stocker des collections d'éléments. Contrairement aux listes, les tuples ne peuvent pas être modifiés après leur création, ce qui en fait des conteneurs fiables pour des ensembles de données fixes.\n",
    "\n",
    "Création de Tuples\n",
    "Les tuples peuvent être créés en utilisant des parenthèses () ou simplement en séparant les éléments par des virgules."
   ]
  },
  {
   "cell_type": "code",
   "execution_count": 77,
   "metadata": {},
   "outputs": [
    {
     "name": "stdout",
     "output_type": "stream",
     "text": [
      "pomme\n",
      "3\n"
     ]
    }
   ],
   "source": [
    "# Tuple vide\n",
    "tuple_vide = ()\n",
    "\n",
    "# Tuple avec un seul élément (nécessite une virgule finale)\n",
    "tuple_seul = (42,)\n",
    "\n",
    "# Tuple avec plusieurs éléments\n",
    "tuple_fruits = (\"pomme\", \"banane\", \"cerise\")\n",
    "\n",
    "# Parenthèses facultatives\n",
    "tuple_nombres = 1, 2, 3\n",
    "\n",
    "#Accès aux Éléments\n",
    "#Les éléments d'un tuple peuvent être accessibles via leur index, similaire aux listes.\n",
    "print(tuple_fruits[0])  # Affiche \"pomme\"\n",
    "print(tuple_nombres[2]) # Affiche 3\n"
   ]
  },
  {
   "cell_type": "markdown",
   "metadata": {},
   "source": [
    "### Immutabilité\n",
    "Les tuples sont immuables, ce qui signifie que vous ne pouvez pas modifier, ajouter ou supprimer des éléments après leur création."
   ]
  },
  {
   "cell_type": "code",
   "execution_count": 78,
   "metadata": {},
   "outputs": [
    {
     "ename": "TypeError",
     "evalue": "'tuple' object does not support item assignment",
     "output_type": "error",
     "traceback": [
      "\u001b[1;31m---------------------------------------------------------------------------\u001b[0m",
      "\u001b[1;31mTypeError\u001b[0m                                 Traceback (most recent call last)",
      "Cell \u001b[1;32mIn[78], line 2\u001b[0m\n\u001b[0;32m      1\u001b[0m \u001b[38;5;66;03m# Cela déclenchera une erreur\u001b[39;00m\n\u001b[1;32m----> 2\u001b[0m \u001b[43mtuple_fruits\u001b[49m\u001b[43m[\u001b[49m\u001b[38;5;241;43m1\u001b[39;49m\u001b[43m]\u001b[49m \u001b[38;5;241m=\u001b[39m \u001b[38;5;124m\"\u001b[39m\u001b[38;5;124morange\u001b[39m\u001b[38;5;124m\"\u001b[39m\n",
      "\u001b[1;31mTypeError\u001b[0m: 'tuple' object does not support item assignment"
     ]
    }
   ],
   "source": [
    "# Cela déclenchera une erreur\n",
    "tuple_fruits[1] = \"orange\"\n"
   ]
  },
  {
   "cell_type": "markdown",
   "metadata": {},
   "source": [
    "### Opérations sur les Tuples\n",
    "Bien que les tuples soient immuables, vous pouvez toujours réaliser plusieurs opérations avec eux :"
   ]
  },
  {
   "cell_type": "code",
   "execution_count": null,
   "metadata": {},
   "outputs": [
    {
     "name": "stdout",
     "output_type": "stream",
     "text": [
      "(1, 2, 3, 4)\n",
      "('a', 'b', 'a', 'b', 'a', 'b')\n",
      "pomme\n",
      "banane\n",
      "3\n",
      "True\n"
     ]
    }
   ],
   "source": [
    "#Concaténation : Fusionner deux tuples.\n",
    "tuple_concat = (1, 2) + (3, 4)\n",
    "print(tuple_concat)  # Affiche (1, 2, 3, 4)\n",
    "\n",
    "#Répetition : Répéter les éléments d'un tuple.\n",
    "tuple_repetition = (\"a\", \"b\") * 3\n",
    "print(tuple_repetition)  # Affiche ('a', 'b', 'a', 'b', 'a', 'b')\n",
    "\n",
    "#Déballage (Unpacking) : Affecter les éléments du tuple à des variables distinctes.\n",
    "tuple_fruits = (\"pomme\", \"banane\", \"cerise\")\n",
    "a, b, c = tuple_fruits\n",
    "print(a)  # Affiche \"pomme\"\n",
    "print(b)  # Affiche \"banane\"\n",
    "\n",
    "#Longueur : Obtenir le nombre d'éléments dans un tuple.\n",
    "print(len(tuple_fruits))  # Affiche 3\n",
    "\n",
    "#Vérification de présence : Vérifier si un élément est dans le tuple.\n",
    "print(\"banane\" in tuple_fruits)  # Affiche True\n",
    "\n",
    "\n"
   ]
  },
  {
   "cell_type": "markdown",
   "metadata": {},
   "source": [
    "#### Conversion entre Listes et Tuples\n",
    "Les listes peuvent être converties en tuples et vice versa :"
   ]
  },
  {
   "cell_type": "code",
   "execution_count": null,
   "metadata": {},
   "outputs": [
    {
     "name": "stdout",
     "output_type": "stream",
     "text": [
      "(1, 2, 3)\n",
      "[4, 5, 6]\n"
     ]
    }
   ],
   "source": [
    "#De Liste à Tuple :\n",
    "liste = [1, 2, 3]\n",
    "tuple_de_liste = tuple(liste)\n",
    "print(tuple_de_liste)  # Affiche (1, 2, 3)\n",
    "\n",
    "#De Tuple à Liste :\n",
    "tuple_initial = (4, 5, 6)\n",
    "liste_de_tuple = list(tuple_initial)\n",
    "print(liste_de_tuple)  # Affiche [4, 5, 6]\n"
   ]
  },
  {
   "cell_type": "markdown",
   "metadata": {},
   "source": [
    "### Tuples de Tuples (Tuples imbriqués)"
   ]
  },
  {
   "cell_type": "code",
   "execution_count": null,
   "metadata": {},
   "outputs": [
    {
     "name": "stdout",
     "output_type": "stream",
     "text": [
      "4\n"
     ]
    }
   ],
   "source": [
    "tuple_imbrique = ((1, 2), (3, 4), (5, 6))\n",
    "print(tuple_imbrique[1][1])  # Affiche 4\n"
   ]
  },
  {
   "cell_type": "markdown",
   "metadata": {},
   "source": [
    "## Dictionnaires \n",
    "Les dictionnaires  sont des structures de données puissantes permettant de stocker des données associatives. Chaque élément du dictionnaire est une paire formée d'une clé unique et d'une valeur correspondante. Ils sont idéaux pour les situations où les données doivent être récupérées par une clé unique.\n",
    "\n",
    "Création de Dictionnaires\n",
    "Les dictionnaires sont créés en utilisant des accolades \"{}\" avec des paires clé-valeur séparées par des deux-points \":\"."
   ]
  },
  {
   "cell_type": "code",
   "execution_count": null,
   "metadata": {},
   "outputs": [],
   "source": [
    "# Dictionnaire vide\n",
    "dico_vide = {}\n",
    "\n",
    "# Dictionnaire avec des éléments\n",
    "dico_fruits = {\n",
    "    \"pomme\": 3,\n",
    "    \"banane\": 5,\n",
    "    \"cerise\": 8\n",
    "}\n",
    "\n",
    "#Accès aux Valeurs\n",
    "print(dico_fruits[\"pomme\"])  # Affiche 3\n",
    "\n",
    "#Modification des Valeurs\n",
    "dico_fruits[\"pomme\"] = 4  # Modifier la valeur\n",
    "dico_fruits[\"mangue\"] = 7 # Ajouter une nouvelle paire\n",
    "\n",
    "#Suppression de Paires\n",
    "\n",
    "#Del : Supprime une paire en spécifiant sa clé.\n",
    "del dico_fruits[\"cerise\"]\n",
    "\n",
    "#Pop : Supprime une paire et renvoie sa valeur.\n",
    "quantite_banane = dico_fruits.pop(\"banane\")\n",
    "\n",
    "#Popitem : Supprime et renvoie la dernière paire clé-valeur (pour les versions antérieures à Python 3.7, c'est une paire aléatoire).\n",
    "derniere_paire = dico_fruits.popitem()\n",
    "\n",
    "    \n",
    "\n"
   ]
  },
  {
   "cell_type": "markdown",
   "metadata": {},
   "source": [
    "#### Méthodes Utiles\n",
    "Les dictionnaires offrent plusieurs méthodes pour manipuler les données :"
   ]
  },
  {
   "cell_type": "code",
   "execution_count": null,
   "metadata": {},
   "outputs": [
    {
     "name": "stdout",
     "output_type": "stream",
     "text": [
      "dict_keys(['pomme', 'banane', 'cerise'])\n",
      "dict_values([3, 5, 8])\n",
      "dict_items([('pomme', 3), ('banane', 5), ('cerise', 8)])\n",
      "3\n",
      "None\n",
      "e21\n"
     ]
    }
   ],
   "source": [
    "dico_fruits = {\n",
    "    \"pomme\": 3,\n",
    "    \"banane\": 5,\n",
    "    \"cerise\": 8\n",
    "}\n",
    "\n",
    "#Keys : Renvoie une vue des clés du dictionnaire.\n",
    "clés = dico_fruits.keys()\n",
    "print(clés)  # Affiche dict_keys(['pomme', 'banane','cerise'])\n",
    "\n",
    "#Values : Renvoie une vue des valeurs.\n",
    "valeurs = dico_fruits.values()\n",
    "print(valeurs)  # Affiche dict_values([3, 5, 8])\n",
    "\n",
    "#Items : Renvoie une vue des paires clé-valeur.\n",
    "paires = dico_fruits.items()\n",
    "print(paires)  # Affiche dict_items([('pomme', 3), ('banane', 5), ('cerise', 8)])\n",
    "\n",
    "#Get : Renvoie la valeur associée à une clé, ou une valeur par défaut si la clé n'existe pas.\n",
    "print(dico_fruits.get(\"pomme\"))  # Affiche 3\n",
    "print(dico_fruits.get(\"ert\"))  # Affiche none\n",
    "quantite_orange = dico_fruits.get(\"orange\", \"e21\")\n",
    "print(quantite_orange)  # Affiche 0\n",
    "\n",
    "#Update : Met à jour le dictionnaire avec des paires clé-valeur provenant d'un autre dictionnaire ou d'une séquence clé-valeur.\n",
    "dico_fruits.update({\"orange\": 3, \"ananas\": 5})\n",
    "print(dico_fruits)  # Affiche {'pomme': 4, 'mangue': 7, 'orange': 3, 'ananas': 5}\n",
    "\n",
    "\n",
    "\n",
    "\n"
   ]
  },
  {
   "cell_type": "markdown",
   "metadata": {},
   "source": [
    "#### Boucles sur les Dictionnaires\n",
    "Vous pouvez facilement itérer sur les clés, valeurs ou les deux :"
   ]
  },
  {
   "cell_type": "code",
   "execution_count": 7,
   "metadata": {},
   "outputs": [
    {
     "name": "stdout",
     "output_type": "stream",
     "text": [
      "pomme\n",
      "banane\n",
      "cerise\n",
      "3\n",
      "5\n",
      "8\n",
      "pomme: 3\n",
      "<built-in function format>\n",
      "banane: 5\n",
      "<built-in function format>\n",
      "cerise: 8\n",
      "<built-in function format>\n"
     ]
    },
    {
     "ename": "",
     "evalue": "",
     "output_type": "error",
     "traceback": [
      "\u001b[1;31mThe Kernel crashed while executing code in the current cell or a previous cell. \n",
      "\u001b[1;31mPlease review the code in the cell(s) to identify a possible cause of the failure. \n",
      "\u001b[1;31mClick <a href='https://aka.ms/vscodeJupyterKernelCrash'>here</a> for more info. \n",
      "\u001b[1;31mView Jupyter <a href='command:jupyter.viewOutput'>log</a> for further details."
     ]
    }
   ],
   "source": [
    "dico_fruits = {\n",
    "    \"pomme\": 3,\n",
    "    \"banane\": 5,\n",
    "    \"cerise\": 8\n",
    "}\n",
    "\n",
    "# Itérer sur les clés\n",
    "for key in dico_fruits:\n",
    "    print(key)\n",
    "\n",
    "# Itérer sur les valeurs\n",
    "for valeur in dico_fruits.values():\n",
    "    print(valeur)\n",
    "\n",
    "# Itérer sur les paires clé-valeur\n",
    "for clé, valeur in dico_fruits.items():\n",
    "    print(f\"{clé}: {valeur}\")\n",
    "    print(format)\n"
   ]
  },
  {
   "cell_type": "markdown",
   "metadata": {},
   "source": [
    "#### Dictionnaires Imbriqués\n",
    "Les dictionnaires peuvent contenir d'autres dictionnaires, permettant ainsi des structures complexes."
   ]
  },
  {
   "cell_type": "code",
   "execution_count": null,
   "metadata": {},
   "outputs": [
    {
     "name": "stdout",
     "output_type": "stream",
     "text": [
      "25\n"
     ]
    }
   ],
   "source": [
    "eleves = {\n",
    "    \"Alice\": {\"âge\": 25, \"note\": 90},\n",
    "    \"Bob\": {\"âge\": 22, \"note\": 85}\n",
    "}\n",
    "print(eleves[\"Alice\"][\"âge\"])  # Affiche 25\n"
   ]
  },
  {
   "cell_type": "markdown",
   "metadata": {},
   "source": [
    "### Exemple general "
   ]
  },
  {
   "cell_type": "code",
   "execution_count": null,
   "metadata": {},
   "outputs": [
    {
     "name": "stdout",
     "output_type": "stream",
     "text": [
      "{'John Doe': {'email': 'john@example.com', 'tel': '555-0000'}, 'Bob Johnson': {'email': 'bob@example.com', 'tel': '555-6789'}}\n"
     ]
    }
   ],
   "source": [
    "# Carnet d'adresses\n",
    "carnet_adresses = {\n",
    "    \"John Doe\": {\"email\": \"john@example.com\", \"tel\": \"555-5555\"},\n",
    "    \"Jane Smith\": {\"email\": \"jane@example.com\", \"tel\": \"555-1234\"}\n",
    "}\n",
    "\n",
    "# Ajouter une entrée\n",
    "carnet_adresses[\"Bob Johnson\"] = {\"email\": \"bob@example.com\", \"tel\": \"555-6789\"}\n",
    "\n",
    "# Modifier une entrée\n",
    "carnet_adresses[\"John Doe\"][\"tel\"] = \"555-0000\"\n",
    "\n",
    "# Supprimer une entrée\n",
    "del carnet_adresses[\"Jane Smith\"]\n",
    "\n",
    "# Afficher les adresses mises à jour\n",
    "print(carnet_adresses)\n"
   ]
  },
  {
   "cell_type": "markdown",
   "metadata": {},
   "source": [
    "# Ensembles \n",
    "Les ensembles (ou sets) en Python sont des structures de données qui permettent de stocker des collections d'éléments uniques et non ordonnés. Ils sont très efficaces pour les opérations d'appartenance, la suppression des doublons, et les calculs d'ensemble.\n",
    "\n",
    "Création d'Ensembles\n",
    "Les ensembles peuvent être créés de plusieurs façons :"
   ]
  },
  {
   "cell_type": "code",
   "execution_count": null,
   "metadata": {},
   "outputs": [],
   "source": [
    "#Avec des accolades {} :\n",
    "# Ensemble vide (doit utiliser set(), car {} crée un dictionnaire vide)\n",
    "ensemble_vide = set()\n",
    "# Ensemble avec des éléments\n",
    "ensemble_fruits = {\"pomme\", \"banane\", \"cerise\"}\n",
    "\n",
    "#Avec la fonction set() :\n",
    "ensemble_nombres = set([1, 2, 3, 4, 5])\n",
    "\n"
   ]
  },
  {
   "cell_type": "markdown",
   "metadata": {},
   "source": [
    "#### Ajout d'Éléments\n",
    "Les éléments peuvent être ajoutés à un ensemble à l'aide de la méthode add()."
   ]
  },
  {
   "cell_type": "code",
   "execution_count": null,
   "metadata": {},
   "outputs": [],
   "source": [
    "ensemble_fruits = {\"pomme\", \"banane\", \"cerise\"}\n",
    "ensemble_fruits.add(\"mangue\")\n",
    "print(ensemble_fruits)  # Affiche {'pomme', 'banane', 'cerise', 'mangue'}\n"
   ]
  },
  {
   "cell_type": "markdown",
   "metadata": {},
   "source": [
    "#### Suppression d'Éléments\n",
    "Vous pouvez supprimer des éléments de plusieurs façons :"
   ]
  },
  {
   "cell_type": "code",
   "execution_count": null,
   "metadata": {},
   "outputs": [
    {
     "name": "stdout",
     "output_type": "stream",
     "text": [
      "{'pomme', 'cerise'}\n",
      "{'pomme'}\n",
      "pomme\n",
      "set()\n"
     ]
    }
   ],
   "source": [
    "#Remove : Supprime un élément spécifique (lève une exception si l'élément n'existe pas).\n",
    "ensemble_fruits = {\"pomme\", \"banane\", \"cerise\"}\n",
    "ensemble_fruits.remove(\"banane\")\n",
    "print(ensemble_fruits)\n",
    "\n",
    "#Discard : Supprime un élément spécifique (ne lève pas d'exception si l'élément n'existe pas).\n",
    "ensemble_fruits.discard(\"cerise\")\n",
    "print(ensemble_fruits)\n",
    "\n",
    "#Pop : Supprime et renvoie un élément arbitraire (utile surtout pour vider l'ensemble).\n",
    "element = ensemble_fruits.pop()\n",
    "print(element)\n",
    "\n",
    "#Clear : Vide l'ensemble.\n",
    "ensemble_fruits.clear()\n",
    "print(ensemble_fruits)  # Affiche set()\n",
    "\n",
    "\n"
   ]
  },
  {
   "cell_type": "markdown",
   "metadata": {},
   "source": [
    "#### Opérations sur les Ensembles\n",
    "Les ensembles supportent une variété d'opérations mathématiques :"
   ]
  },
  {
   "cell_type": "code",
   "execution_count": null,
   "metadata": {},
   "outputs": [
    {
     "name": "stdout",
     "output_type": "stream",
     "text": [
      "{1, 2, 3, 4, 5}\n",
      "{3}\n",
      "{1, 2}\n",
      "{1, 2, 4, 5}\n"
     ]
    }
   ],
   "source": [
    "#Union : Combine les éléments de deux ensembles.\n",
    "ensemble_a = {1, 2, 3}\n",
    "ensemble_b = {3, 4, 5}\n",
    "union = ensemble_a | ensemble_b  # ou ensemble_a.union(ensemble_b)\n",
    "print(union)  # Affiche {1, 2, 3, 4, 5}\n",
    "\n",
    "#Intersection : Renvoie les éléments communs aux deux ensembles.\n",
    "intersection = ensemble_a & ensemble_b  # ou ensemble_a.intersection(ensemble_b)\n",
    "print(intersection)  # Affiche {3}\n",
    "\n",
    "#Différence : Renvoie les éléments de ensemble_a qui ne sont pas dans ensemble_b.\n",
    "difference = ensemble_a - ensemble_b  # ou ensemble_a.difference(ensemble_b)\n",
    "print(difference)  # Affiche {1, 2}\n",
    "\n",
    "#Différence Symétrique : Renvoie les éléments qui sont dans l'un des ensembles mais pas dans les deux.\n",
    "diff_sym = ensemble_a ^ ensemble_b  # ou ensemble_a.symmetric_difference(ensemble_b)\n",
    "print(diff_sym)  # Affiche {1, 2, 4, 5}\n",
    "\n"
   ]
  },
  {
   "cell_type": "markdown",
   "metadata": {},
   "source": [
    "#### Vérification de l'Appartenance\n",
    "Tester si un élément est dans un ensemble est très rapide grâce aux ensembles."
   ]
  },
  {
   "cell_type": "code",
   "execution_count": null,
   "metadata": {},
   "outputs": [
    {
     "name": "stdout",
     "output_type": "stream",
     "text": [
      "True\n",
      "False\n"
     ]
    }
   ],
   "source": [
    "print(3 in ensemble_a)  # Affiche True\n",
    "print(4 in ensemble_a)  # Affiche False\n"
   ]
  },
  {
   "cell_type": "markdown",
   "metadata": {},
   "source": [
    "#### Itération sur les Ensembles\n",
    "Vous pouvez parcourir les éléments d'un ensemble en utilisant une boucle for."
   ]
  },
  {
   "cell_type": "code",
   "execution_count": null,
   "metadata": {},
   "outputs": [
    {
     "name": "stdout",
     "output_type": "stream",
     "text": [
      "pomme\n",
      "banane\n",
      "cerise\n"
     ]
    }
   ],
   "source": [
    "ensemble_fruits = {\"pomme\", \"banane\", \"cerise\"}\n",
    "\n",
    "for fruit in ensemble_fruits:\n",
    "    print(fruit)\n"
   ]
  },
  {
   "cell_type": "markdown",
   "metadata": {},
   "source": [
    "#### Ensembles Immuables (Frozenset)\n",
    "Python fournit également des ensembles immuables appelés frozenset, qui ne peuvent pas être modifiés après leur création."
   ]
  },
  {
   "cell_type": "code",
   "execution_count": null,
   "metadata": {},
   "outputs": [],
   "source": [
    "ensemble_immuable = frozenset([1, 2, 3])\n"
   ]
  },
  {
   "cell_type": "markdown",
   "metadata": {},
   "source": [
    "#### Utilisations Pratiques des Ensembles\n",
    "Les ensembles sont utiles dans divers contextes :\n",
    "\n",
    "- Éliminer les doublons : Obtenir une liste unique d'éléments.\n",
    "- Opérations d'ensemble : Calculer les unions, intersections, et différences.\n",
    "- Tests d'appartenance : Vérifier rapidement si un élément est présent.\n",
    "- Suppression rapide d'éléments : Enlever des éléments tout en préservant l'unicité."
   ]
  },
  {
   "cell_type": "code",
   "execution_count": null,
   "metadata": {},
   "outputs": [
    {
     "name": "stdout",
     "output_type": "stream",
     "text": [
      "{1, 2, 3, 4, 5}\n"
     ]
    }
   ],
   "source": [
    "liste_avec_doublons = [1, 2, 2, 3, 4, 4, 5]\n",
    "ensemble_unique = set(liste_avec_doublons)\n",
    "print(ensemble_unique)  # Affiche {1, 2, 3, 4, 5}\n"
   ]
  },
  {
   "cell_type": "markdown",
   "metadata": {},
   "source": [
    "#### Exemple Pratique\n",
    "Voici un exemple pratique utilisant les ensembles pour gérer un groupe de participants à des événements :"
   ]
  },
  {
   "cell_type": "code",
   "execution_count": null,
   "metadata": {},
   "outputs": [
    {
     "name": "stdout",
     "output_type": "stream",
     "text": [
      "{'Bob'}\n",
      "{'Charlie', 'Edward', 'David', 'Alice', 'Bob'}\n",
      "{'Alice', 'Charlie'}\n"
     ]
    }
   ],
   "source": [
    "participants_jour_1 = {\"Alice\", \"Bob\", \"Charlie\"}\n",
    "participants_jour_2 = {\"Bob\", \"David\", \"Edward\"}\n",
    "\n",
    "# Participants présents les deux jours\n",
    "participants_communs = participants_jour_1 & participants_jour_2\n",
    "print(participants_communs)  # Affiche {'Bob'}\n",
    "\n",
    "# Tous les participants sur les deux jours\n",
    "tous_les_participants = participants_jour_1 | participants_jour_2\n",
    "print(tous_les_participants)  # Affiche {'Alice', 'Bob', 'Charlie', 'David', 'Edward'}\n",
    "\n",
    "# Participants du jour 1 mais pas du jour 2\n",
    "seulement_jour_1 = participants_jour_1 - participants_jour_2\n",
    "print(seulement_jour_1)  # Affiche {'Alice', 'Charlie'}\n"
   ]
  },
  {
   "cell_type": "markdown",
   "metadata": {},
   "source": [
    "## Slicing \n",
    "Le slicing en Python est une fonctionnalité qui permet de créer une sous-séquence d'une séquence en spécifiant une plage d'indices. Il est extrêmement utile pour manipuler les séquences et obtenir des sous-ensembles des données.\n",
    "Il s'applique:\n",
    "- aux listes\n",
    "- aux tuples\n",
    "- aux strings\n",
    "- aux arrays numpy\n",
    "- aux pandas Series et DataFrame\n",
    "- aux autres séquences\n",
    "\n",
    "Syntaxe du Slicing\n",
    "La syntaxe de base du slicing est la suivante :\n",
    " sequence[start:stop:step]\n",
    "- start : L'indice de début (inclusif). Par défaut, c'est 0.\n",
    "- stop : L'indice de fin (exclusif). Par défaut c'est la longueur de la séquence.\n",
    "- step : Le pas (ou stride). Par défaut, c'est 1.\n",
    "\n"
   ]
  },
  {
   "cell_type": "markdown",
   "metadata": {},
   "source": [
    "#### Slicing sur les listes"
   ]
  },
  {
   "cell_type": "code",
   "execution_count": 64,
   "metadata": {},
   "outputs": [
    {
     "name": "stdout",
     "output_type": "stream",
     "text": [
      "[2, 3, 4, 5, 6]\n",
      "[0, 1, 2, 3, 4]\n"
     ]
    }
   ],
   "source": [
    "#Accéder à un sous-ensemble :\n",
    "liste = [0, 1, 2, 3, 4, 5, 6, 7, 8, 9]\n",
    "sous_liste = liste[2:7]  # [2, 3, 4, 5, 6]\n",
    "print(sous_liste)\n",
    "\n",
    "#Omettre le start : Commence du début.\n",
    "sous_liste = liste[:5]  # [0, 1, 2, 3, 4]\n",
    "print(sous_liste)\n",
    "\n",
    "#Omettre le stop : Continue jusqu'à la fin.\n",
    "sous_liste = liste[5:]  # [5, 6, 7, 8, 9]\n",
    "\n",
    "#Utiliser un step :\n",
    "sous_liste = liste[1:8:2]  # [1, 3, 5, 7]\n",
    "\n",
    "#Indices négatifs : Compter à partir de la fin.\n",
    "sous_liste = liste[-5:-1]  # [5, 6, 7, 8]\n",
    "\n",
    "#Inverser la liste \n",
    "liste_inverse = liste[::-1]  # [9, 8, 7, 6, 5, 4, 3, 2, 1, 0]\n",
    "\n",
    "#Exemple\n",
    "#Obtenir les éléments impairs :\n",
    "impairs = liste[1::2]  # [1, 3, 5, 7, 9]\n",
    "\n",
    "#Extraire une partie centrale :\n",
    "partie_centrale = liste[len(liste)//4:3*len(liste)//4]  # [2, 3, 4, 5, 6, 7]\n",
    "\n",
    "\n",
    "\n"
   ]
  },
  {
   "cell_type": "markdown",
   "metadata": {},
   "source": [
    "#### Slicing avec des Tableaux NumPy\n",
    "Le slicing s'étend aux tableaux NumPy pour la manipulation de données en matrices.\n",
    "La bibliothèque NumPy permet d'effectuer des calculs numériques avec Python. Elle introduit une gestion facilitée des tableaux de nombres1. NumPy structure les données sous la forme d'un tableau multidimensionnel appelé ndarray2. Cette bibliothèque est utilisée pour effectuer des opérations sur des tableaux multidimensionnels et des calculs mathématiques complexes345."
   ]
  },
  {
   "cell_type": "code",
   "execution_count": 80,
   "metadata": {},
   "outputs": [
    {
     "ename": "ModuleNotFoundError",
     "evalue": "No module named 'numpy'",
     "output_type": "error",
     "traceback": [
      "\u001b[1;31m---------------------------------------------------------------------------\u001b[0m",
      "\u001b[1;31mModuleNotFoundError\u001b[0m                       Traceback (most recent call last)",
      "Cell \u001b[1;32mIn[80], line 1\u001b[0m\n\u001b[1;32m----> 1\u001b[0m \u001b[38;5;28;01mimport\u001b[39;00m \u001b[38;5;21;01mnumpy\u001b[39;00m \u001b[38;5;28;01mas\u001b[39;00m \u001b[38;5;21;01mnp\u001b[39;00m\n\u001b[0;32m      3\u001b[0m \u001b[38;5;66;03m# Créer un tableau 2D NumPy\u001b[39;00m\n\u001b[0;32m      4\u001b[0m tableau \u001b[38;5;241m=\u001b[39m np\u001b[38;5;241m.\u001b[39marray([[\u001b[38;5;241m0\u001b[39m, \u001b[38;5;241m1\u001b[39m, \u001b[38;5;241m2\u001b[39m], [\u001b[38;5;241m3\u001b[39m, \u001b[38;5;241m4\u001b[39m, \u001b[38;5;241m5\u001b[39m], [\u001b[38;5;241m6\u001b[39m, \u001b[38;5;241m7\u001b[39m, \u001b[38;5;241m8\u001b[39m]])\n",
      "\u001b[1;31mModuleNotFoundError\u001b[0m: No module named 'numpy'"
     ]
    }
   ],
   "source": [
    "import numpy as np\n",
    "\n",
    "# Créer un tableau 2D NumPy\n",
    "tableau = np.array([[0, 1, 2], [3, 4, 5], [6, 7, 8]])\n",
    "sous_tableau = tableau[:2, 1:]  # [[1, 2], [4, 5]]\n",
    "\n"
   ]
  },
  {
   "cell_type": "markdown",
   "metadata": {},
   "source": [
    "#### Modifier des sous-séquences : \n",
    "Le slicing peut être utilisé pour modifier des parties d'une séquence."
   ]
  },
  {
   "cell_type": "code",
   "execution_count": null,
   "metadata": {},
   "outputs": [],
   "source": [
    "liste = [0, 1, 2, 3, 4, 5]\n",
    "liste[2:4] = [8, 9]  # Remplace les éléments à l'indice 2 et 3\n",
    "print(liste)  # [0, 1, 8, 9, 4, 5]\n",
    "\n",
    "#Copier une liste : Utiliser le slicing pour copier une liste.\n",
    "copie_liste = liste[:]\n",
    "\n",
    "#Évaluer les tranches de manière flexible : Travailler avec des paramètres de slicing qui peuvent être calculés dynamiquement.\n",
    "def extraire_elements(liste, debut, fin, pas):\n",
    "    return liste[debut:fin:pas]\n",
    "\n",
    "resultat = extraire_elements([0, 1, 2, 3, 4, 5, 6, 7, 8, 9], 1, 8, 2)\n",
    "print(resultat)  # [1, 3, 5, 7]\n",
    "\n"
   ]
  },
  {
   "cell_type": "markdown",
   "metadata": {},
   "source": [
    "#### Compréhensions de Listes et de Dictionnaires en Python\n",
    "##### Compréhensions de Listes\n",
    "Une compréhension de liste permet de créer une nouvelle liste en appliquant une expression à chaque élément d'une séquence existante et, éventuellement, en filtrant les éléments.\n",
    "\n",
    "Syntaxe\n",
    "###### [nouvel_élément for élément in séquence if condition]\n"
   ]
  },
  {
   "cell_type": "code",
   "execution_count": 15,
   "metadata": {},
   "outputs": [
    {
     "name": "stdout",
     "output_type": "stream",
     "text": [
      "[0, 1, 4, 9, 16, 25, 36, 49, 64, 81]\n"
     ]
    }
   ],
   "source": [
    "#Création de listes à partir d'une autre liste :\n",
    "\n",
    "# Liste des carrés des nombres de 0 à 9\n",
    "carres = [x**2 for x in range(10)]\n",
    "print(carres) \n"
   ]
  },
  {
   "cell_type": "code",
   "execution_count": 18,
   "metadata": {},
   "outputs": [
    {
     "name": "stdout",
     "output_type": "stream",
     "text": [
      "[2, 4, 6, 8, 10, 12, 14, 16, 18]\n"
     ]
    }
   ],
   "source": [
    "#Filtrage avec une condition :\n",
    "# Liste des nombres pairs de 0 à 9\n",
    "pairs = [x for x in range(2,20) if x % 2 == 0]\n",
    "print(pairs)  # [0, 2, 4, 6, 8]\n"
   ]
  },
  {
   "cell_type": "code",
   "execution_count": 19,
   "metadata": {},
   "outputs": [
    {
     "name": "stdout",
     "output_type": "stream",
     "text": [
      "['HELLO', 'WORLD', 'PYTHON']\n"
     ]
    }
   ],
   "source": [
    "#Transformations sur des chaînes de caractères :\n",
    "mots = [\"hello\", \"world\", \"python\"]\n",
    "majuscules = [mot.upper() for mot in mots]\n",
    "print(majuscules)  # ['HELLO', 'WORLD', 'PYTHON']\n"
   ]
  },
  {
   "cell_type": "markdown",
   "metadata": {},
   "source": [
    "Compréhensions imbriquées :"
   ]
  },
  {
   "cell_type": "code",
   "execution_count": 20,
   "metadata": {},
   "outputs": [
    {
     "name": "stdout",
     "output_type": "stream",
     "text": [
      "[1, 2, 3, 2, 4, 6, 3, 6, 9]\n"
     ]
    }
   ],
   "source": [
    "# Liste des produits de paires d'indices\n",
    "produits = [x * y for x in range(1, 4) for y in range(1, 4)]\n",
    "print(produits)  # [1, 2, 3, 2, 4, 6, 3, 6, 9]\n"
   ]
  },
  {
   "cell_type": "code",
   "execution_count": 21,
   "metadata": {},
   "outputs": [
    {
     "name": "stdout",
     "output_type": "stream",
     "text": [
      "[(1, 1), (1, 2), (1, 3), (2, 1), (2, 2), (2, 3), (3, 1), (3, 2), (3, 3)]\n"
     ]
    }
   ],
   "source": [
    "#Listes de tuples :\n",
    "# Créer des paires (i, j) pour i et j de 1 à 3\n",
    "paires = [(i, j) for i in range(1, 4) for j in range(1, 4)]\n",
    "print(paires)  # [(1, 1), (1, 2), (1, 3), (2, 1), (2, 2), (2, 3), (3, 1), (3, 2), (3, 3)]\n"
   ]
  },
  {
   "cell_type": "code",
   "execution_count": 22,
   "metadata": {},
   "outputs": [
    {
     "name": "stdout",
     "output_type": "stream",
     "text": [
      "[[1, 0, 0], [0, 1, 0], [0, 0, 1]]\n"
     ]
    }
   ],
   "source": [
    "#Liste de sous-listes :\n",
    "# Créer une matrice d'identité 3x3\n",
    "matrice_identite = [[1 if i == j else 0 for j in range(3)] for i in range(3)]\n",
    "print(matrice_identite)  # [[1, 0, 0], [0, 1, 0], [0, 0, 1]]\n"
   ]
  },
  {
   "cell_type": "markdown",
   "metadata": {},
   "source": [
    "##### Compréhensions de Dictionnaires\n",
    "Une compréhension de dictionnaire permet de créer un dictionnaire à partir d'une séquence, où chaque élément produit une paire clé-valeur.\n",
    "\n",
    "Syntaxe\n",
    "\n",
    "###### {clé: valeur for élément in séquence if condition}"
   ]
  },
  {
   "cell_type": "code",
   "execution_count": 23,
   "metadata": {},
   "outputs": [
    {
     "name": "stdout",
     "output_type": "stream",
     "text": [
      "{0: 0, 1: 1, 2: 4, 3: 9, 4: 16}\n"
     ]
    }
   ],
   "source": [
    "#Créer un dictionnaire à partir d'une liste :\n",
    "# Carrés des nombres de 0 à 4\n",
    "carres_dict = {x: x**2 for x in range(5)}\n",
    "print(carres_dict)  # {0: 0, 1: 1, 2: 4, 3: 9, 4: 16}\n"
   ]
  },
  {
   "cell_type": "code",
   "execution_count": 24,
   "metadata": {},
   "outputs": [
    {
     "name": "stdout",
     "output_type": "stream",
     "text": [
      "{'a': 'APPLE', 'b': 'BANANA', 'c': 'CHERRY'}\n"
     ]
    }
   ],
   "source": [
    "#Transformer les valeurs d'un dictionnaire :\n",
    "# Convertir les valeurs d'un dictionnaire en majuscules\n",
    "dico = {'a': 'apple', 'b': 'banana', 'c': 'cherry'}\n",
    "maj_dico = {k: v.upper() for k, v in dico.items()}\n",
    "print(maj_dico)  # {'a': 'APPLE', 'b': 'BANANA', 'c': 'CHERRY'}\n"
   ]
  },
  {
   "cell_type": "code",
   "execution_count": 25,
   "metadata": {},
   "outputs": [
    {
     "name": "stdout",
     "output_type": "stream",
     "text": [
      "{2: 'deux', 4: 'quatre'}\n"
     ]
    }
   ],
   "source": [
    "#Filtrer les paires clé-valeur :\n",
    "# Filtrer un dictionnaire pour garder les valeurs paires\n",
    "dico_nombres = {1: 'un', 2: 'deux', 3: 'trois', 4: 'quatre'}\n",
    "pairs_dico = {k: v for k, v in dico_nombres.items() if k % 2 == 0}\n",
    "print(pairs_dico)  # {2: 'deux', 4: 'quatre'}\n"
   ]
  },
  {
   "cell_type": "code",
   "execution_count": 26,
   "metadata": {},
   "outputs": [
    {
     "name": "stdout",
     "output_type": "stream",
     "text": [
      "{'apple': 'a', 'banana': 'b', 'cherry': 'c'}\n"
     ]
    }
   ],
   "source": [
    "#Inverser les clés et les valeurs :\n",
    "# Inverser les clés et les valeurs d'un dictionnaire\n",
    "dico_inversé = {v: k for k, v in dico.items()}\n",
    "print(dico_inversé)  # {'apple': 'a', 'banana': 'b', 'cherry': 'c'}\n"
   ]
  },
  {
   "cell_type": "code",
   "execution_count": 27,
   "metadata": {},
   "outputs": [
    {
     "name": "stdout",
     "output_type": "stream",
     "text": [
      "{'Alice': {'moyenne': 90.0}, 'Bob': {'moyenne': 75.0}}\n"
     ]
    }
   ],
   "source": [
    "#Créer un dictionnaire imbriqué :\n",
    "# Créer un dictionnaire de dictionnaires\n",
    "notes = {'Alice': [85, 90, 95], 'Bob': [70, 80, 75]}\n",
    "moyennes = {eleve: {'moyenne': sum(notes[eleve])/len(notes[eleve])} for eleve in notes}\n",
    "print(moyennes)  # {'Alice': {'moyenne': 90.0}, 'Bob': {'moyenne': 75.0}}\n"
   ]
  },
  {
   "cell_type": "code",
   "execution_count": 28,
   "metadata": {},
   "outputs": [
    {
     "name": "stdout",
     "output_type": "stream",
     "text": [
      "{(0, 1): 1, (1, 2): 1, (2, 3): 1}\n"
     ]
    }
   ],
   "source": [
    "#Utilisation de tuples comme clés :\n",
    "# Dictionnaire avec des tuples comme clés\n",
    "tuples_dict = {(x, x + 1): x - x + 1 for x in range(3)}\n",
    "print(tuples_dict)  # {(0, 1): 1, (1, 2): 1, (2, 3): 1}\n"
   ]
  },
  {
   "cell_type": "markdown",
   "metadata": {},
   "source": [
    "##### Combiner Listes et Dictionnaires\n",
    "Les compréhensions de listes et de dictionnaires peuvent être combinées pour des manipulations complexes."
   ]
  },
  {
   "cell_type": "code",
   "execution_count": 29,
   "metadata": {},
   "outputs": [
    {
     "name": "stdout",
     "output_type": "stream",
     "text": [
      "{1: [0], 2: [0, 1], 3: [0, 1, 4]}\n"
     ]
    }
   ],
   "source": [
    "#Dictionnaire avec liste comme valeurs :\n",
    "# Créer un dictionnaire où les valeurs sont des listes de carrés\n",
    "liste_nombres = [1, 2, 3]\n",
    "dico_carrés = {x: [y**2 for y in range(x)] for x in liste_nombres}\n",
    "print(dico_carrés)  # {1: [0], 2: [0, 1], 3: [0, 1, 4]}\n"
   ]
  },
  {
   "cell_type": "code",
   "execution_count": 30,
   "metadata": {},
   "outputs": [
    {
     "name": "stdout",
     "output_type": "stream",
     "text": [
      "[{'nom': 'Alice', 'note': 85}, {'nom': 'Bob', 'note': 90}, {'nom': 'Charlie', 'note': 78}]\n"
     ]
    }
   ],
   "source": [
    "#Liste de dictionnaires :\n",
    "# Créer une liste de dictionnaires à partir d'une liste de tuples\n",
    "eleves_notes = [('Alice', 85), ('Bob', 90), ('Charlie', 78)]\n",
    "liste_dicos = [{'nom': nom, 'note': note} for nom, note in eleves_notes]\n",
    "print(liste_dicos)  # [{'nom': 'Alice', 'note': 85}, {'nom': 'Bob', 'note': 90}, {'nom': 'Charlie', 'note': 78}]\n"
   ]
  },
  {
   "cell_type": "code",
   "execution_count": null,
   "metadata": {},
   "outputs": [],
   "source": []
  },
  {
   "cell_type": "code",
   "execution_count": null,
   "metadata": {},
   "outputs": [],
   "source": [
    "\n",
    "#Copier une liste : Utiliser le slicing pour copier une liste.\n",
    "copie_liste = liste[:]\n",
    "\n",
    "#Évaluer les tranches de manière flexible : Travailler avec des paramètres de slicing qui peuvent être calculés dynamiquement.\n",
    "def extraire_elements(liste, debut, fin, pas):\n",
    "    return liste[debut:fin:pas]\n",
    "\n",
    "resultat = extraire_elements([0, 1, 2, 3, 4, 5, 6, 7, 8, 9], 1, 8, 2)\n",
    "print(resultat)  # [1, 3, 5, 7]\n",
    "\n"
   ]
  },
  {
   "cell_type": "markdown",
   "metadata": {},
   "source": [
    "### Les itterables (Boucle)\n",
    "\n",
    "Les boucles sont fondamentales pour contrôler le flux d'exécution dans un programme Python. Elles permettent de répéter l'exécution d'un bloc de code plusieurs fois. Python offre principalement deux types de boucles : for et while. Voici une présentation détaillée de ces boucles, accompagnée d'exemples pratiques et de quelques astuces utiles.\n",
    "##### Boucle for\n",
    "La boucle for permet de parcourir les éléments d'une séquence (comme une liste, un tuple, une chaîne de caractères) ou tout autre objet itérable.\n",
    "#### syntaxe:\n",
    "##### for variable in iterable:\n",
    "    # bloc de code"
   ]
  },
  {
   "cell_type": "code",
   "execution_count": 2,
   "metadata": {},
   "outputs": [
    {
     "name": "stdout",
     "output_type": "stream",
     "text": [
      "apple\n",
      "banana\n",
      "cherry\n"
     ]
    }
   ],
   "source": [
    "# Itération sur une liste :\n",
    "fruits = [\"apple\", \"banana\", \"cherry\"]\n",
    "for fruit in fruits:\n",
    "    print(fruit)\n"
   ]
  },
  {
   "cell_type": "code",
   "execution_count": null,
   "metadata": {},
   "outputs": [],
   "source": [
    "#Utilisation de range :\n",
    "for i in range(5):\n",
    "    print(i)  # Affiche les nombres de 0 à 4\n"
   ]
  },
  {
   "cell_type": "code",
   "execution_count": null,
   "metadata": {},
   "outputs": [],
   "source": [
    "# Itération sur une chaîne de caractères :\n",
    "for letter in \"python\":\n",
    "    print(letter)\n"
   ]
  },
  {
   "cell_type": "code",
   "execution_count": null,
   "metadata": {},
   "outputs": [],
   "source": [
    "#Itération sur un dictionnaire :\n",
    "student = {\"name\": \"Alice\", \"age\": 24}\n",
    "for key, value in student.items():\n",
    "    print(f\"{key}: {value}\")\n",
    "\n"
   ]
  },
  {
   "cell_type": "code",
   "execution_count": 4,
   "metadata": {},
   "outputs": [
    {
     "name": "stdout",
     "output_type": "stream",
     "text": [
      "Color 0: red\n",
      "Color 1: green\n",
      "Color 2: blue\n"
     ]
    }
   ],
   "source": [
    "# Utilisation de enumerate pour obtenir les indices :\n",
    "colors = [\"red\", \"green\", \"blue\"]\n",
    "for index, color in enumerate(colors):\n",
    "    print(f\"Color {index}: {color}\")\n"
   ]
  },
  {
   "cell_type": "code",
   "execution_count": 3,
   "metadata": {},
   "outputs": [
    {
     "name": "stdout",
     "output_type": "stream",
     "text": [
      "Alice is 24 years old.\n",
      "Bob is 30 years old.\n",
      "Charlie is 22 years old.\n"
     ]
    }
   ],
   "source": [
    "    \n",
    "#Utilisation de zip pour itérer sur plusieurs séquences :\n",
    "names = [\"Alice\", \"Bob\", \"Charlie\"]\n",
    "ages = [24, 30, 22]\n",
    "for name, age in zip(names, ages):\n",
    "    print(f\"{name} is {age} years old.\")"
   ]
  },
  {
   "cell_type": "markdown",
   "metadata": {},
   "source": [
    "#### Boucle while\n",
    "La boucle while continue d'exécuter un bloc de code tant qu'une condition donnée est vraie.\n",
    "\n",
    "Syntaxe\n",
    "##### while condition:\n",
    "##### bloc de code\n"
   ]
  },
  {
   "cell_type": "code",
   "execution_count": 5,
   "metadata": {},
   "outputs": [
    {
     "name": "stdout",
     "output_type": "stream",
     "text": [
      "0\n",
      "1\n",
      "2\n",
      "3\n",
      "4\n"
     ]
    }
   ],
   "source": [
    "#Compteur simple :\n",
    "count = 0\n",
    "while count < 5:\n",
    "    print(count)\n",
    "    count += 1"
   ]
  },
  {
   "cell_type": "code",
   "execution_count": null,
   "metadata": {},
   "outputs": [],
   "source": [
    "# Entrée utilisateur :\n",
    "user_input = \"\"\n",
    "while user_input != \"quit\":\n",
    "    user_input = input(\"Type 'quit' to exit: \")"
   ]
  },
  {
   "cell_type": "code",
   "execution_count": null,
   "metadata": {},
   "outputs": [
    {
     "ename": "KeyboardInterrupt",
     "evalue": "Interrupted by user",
     "output_type": "error",
     "traceback": [
      "\u001b[1;31m---------------------------------------------------------------------------\u001b[0m",
      "\u001b[1;31mKeyboardInterrupt\u001b[0m                         Traceback (most recent call last)",
      "Cell \u001b[1;32mIn[3], line 3\u001b[0m\n\u001b[0;32m      1\u001b[0m \u001b[38;5;66;03m# Boucle infinie avec une condition d'arrêt :\u001b[39;00m\n\u001b[0;32m      2\u001b[0m \u001b[38;5;28;01mwhile\u001b[39;00m \u001b[38;5;28;01mTrue\u001b[39;00m:\n\u001b[1;32m----> 3\u001b[0m     response \u001b[38;5;241m=\u001b[39m \u001b[38;5;28;43minput\u001b[39;49m\u001b[43m(\u001b[49m\u001b[38;5;124;43m\"\u001b[39;49m\u001b[38;5;124;43mType \u001b[39;49m\u001b[38;5;124;43m'\u001b[39;49m\u001b[38;5;124;43mstop\u001b[39;49m\u001b[38;5;124;43m'\u001b[39;49m\u001b[38;5;124;43m to end the loop: \u001b[39;49m\u001b[38;5;124;43m\"\u001b[39;49m\u001b[43m)\u001b[49m\n\u001b[0;32m      4\u001b[0m     \u001b[38;5;28;01mif\u001b[39;00m response\u001b[38;5;241m.\u001b[39mlower() \u001b[38;5;241m==\u001b[39m \u001b[38;5;124m\"\u001b[39m\u001b[38;5;124mstop\u001b[39m\u001b[38;5;124m\"\u001b[39m:\n\u001b[0;32m      5\u001b[0m         \u001b[38;5;28;01mbreak\u001b[39;00m\n",
      "File \u001b[1;32m~\\AppData\\Roaming\\Python\\Python312\\site-packages\\ipykernel\\kernelbase.py:1282\u001b[0m, in \u001b[0;36mKernel.raw_input\u001b[1;34m(self, prompt)\u001b[0m\n\u001b[0;32m   1280\u001b[0m     msg \u001b[38;5;241m=\u001b[39m \u001b[38;5;124m\"\u001b[39m\u001b[38;5;124mraw_input was called, but this frontend does not support input requests.\u001b[39m\u001b[38;5;124m\"\u001b[39m\n\u001b[0;32m   1281\u001b[0m     \u001b[38;5;28;01mraise\u001b[39;00m StdinNotImplementedError(msg)\n\u001b[1;32m-> 1282\u001b[0m \u001b[38;5;28;01mreturn\u001b[39;00m \u001b[38;5;28;43mself\u001b[39;49m\u001b[38;5;241;43m.\u001b[39;49m\u001b[43m_input_request\u001b[49m\u001b[43m(\u001b[49m\n\u001b[0;32m   1283\u001b[0m \u001b[43m    \u001b[49m\u001b[38;5;28;43mstr\u001b[39;49m\u001b[43m(\u001b[49m\u001b[43mprompt\u001b[49m\u001b[43m)\u001b[49m\u001b[43m,\u001b[49m\n\u001b[0;32m   1284\u001b[0m \u001b[43m    \u001b[49m\u001b[38;5;28;43mself\u001b[39;49m\u001b[38;5;241;43m.\u001b[39;49m\u001b[43m_parent_ident\u001b[49m\u001b[43m[\u001b[49m\u001b[38;5;124;43m\"\u001b[39;49m\u001b[38;5;124;43mshell\u001b[39;49m\u001b[38;5;124;43m\"\u001b[39;49m\u001b[43m]\u001b[49m\u001b[43m,\u001b[49m\n\u001b[0;32m   1285\u001b[0m \u001b[43m    \u001b[49m\u001b[38;5;28;43mself\u001b[39;49m\u001b[38;5;241;43m.\u001b[39;49m\u001b[43mget_parent\u001b[49m\u001b[43m(\u001b[49m\u001b[38;5;124;43m\"\u001b[39;49m\u001b[38;5;124;43mshell\u001b[39;49m\u001b[38;5;124;43m\"\u001b[39;49m\u001b[43m)\u001b[49m\u001b[43m,\u001b[49m\n\u001b[0;32m   1286\u001b[0m \u001b[43m    \u001b[49m\u001b[43mpassword\u001b[49m\u001b[38;5;241;43m=\u001b[39;49m\u001b[38;5;28;43;01mFalse\u001b[39;49;00m\u001b[43m,\u001b[49m\n\u001b[0;32m   1287\u001b[0m \u001b[43m\u001b[49m\u001b[43m)\u001b[49m\n",
      "File \u001b[1;32m~\\AppData\\Roaming\\Python\\Python312\\site-packages\\ipykernel\\kernelbase.py:1325\u001b[0m, in \u001b[0;36mKernel._input_request\u001b[1;34m(self, prompt, ident, parent, password)\u001b[0m\n\u001b[0;32m   1322\u001b[0m \u001b[38;5;28;01mexcept\u001b[39;00m \u001b[38;5;167;01mKeyboardInterrupt\u001b[39;00m:\n\u001b[0;32m   1323\u001b[0m     \u001b[38;5;66;03m# re-raise KeyboardInterrupt, to truncate traceback\u001b[39;00m\n\u001b[0;32m   1324\u001b[0m     msg \u001b[38;5;241m=\u001b[39m \u001b[38;5;124m\"\u001b[39m\u001b[38;5;124mInterrupted by user\u001b[39m\u001b[38;5;124m\"\u001b[39m\n\u001b[1;32m-> 1325\u001b[0m     \u001b[38;5;28;01mraise\u001b[39;00m \u001b[38;5;167;01mKeyboardInterrupt\u001b[39;00m(msg) \u001b[38;5;28;01mfrom\u001b[39;00m \u001b[38;5;28;01mNone\u001b[39;00m\n\u001b[0;32m   1326\u001b[0m \u001b[38;5;28;01mexcept\u001b[39;00m \u001b[38;5;167;01mException\u001b[39;00m:\n\u001b[0;32m   1327\u001b[0m     \u001b[38;5;28mself\u001b[39m\u001b[38;5;241m.\u001b[39mlog\u001b[38;5;241m.\u001b[39mwarning(\u001b[38;5;124m\"\u001b[39m\u001b[38;5;124mInvalid Message:\u001b[39m\u001b[38;5;124m\"\u001b[39m, exc_info\u001b[38;5;241m=\u001b[39m\u001b[38;5;28;01mTrue\u001b[39;00m)\n",
      "\u001b[1;31mKeyboardInterrupt\u001b[0m: Interrupted by user"
     ]
    }
   ],
   "source": [
    "# Boucle infinie avec une condition d'arrêt :\n",
    "while True:\n",
    "    response = input(\"Type 'stop' to end the loop: \")\n",
    "    if response.lower() == \"stop\":\n",
    "        break\n"
   ]
  },
  {
   "cell_type": "markdown",
   "metadata": {},
   "source": [
    "Contrôle du Flux des Boucles\n"
   ]
  },
  {
   "cell_type": "code",
   "execution_count": 4,
   "metadata": {},
   "outputs": [
    {
     "name": "stdout",
     "output_type": "stream",
     "text": [
      "0\n",
      "1\n",
      "2\n",
      "3\n",
      "4\n"
     ]
    }
   ],
   "source": [
    "#break\n",
    "#Interrompt la boucle prématurément.\n",
    "for number in range(10):\n",
    "    if number == 5:\n",
    "        break\n",
    "    print(number)\n"
   ]
  },
  {
   "cell_type": "code",
   "execution_count": 5,
   "metadata": {},
   "outputs": [
    {
     "name": "stdout",
     "output_type": "stream",
     "text": [
      "0\n",
      "1\n",
      "3\n",
      "4\n"
     ]
    }
   ],
   "source": [
    "#continue\n",
    "\n",
    "#Passe à l'itération suivante sans exécuter les instructions restantes de la boucle.\n",
    "for number in range(5):\n",
    "    if number == 2:\n",
    "        continue\n",
    "    print(number)\n"
   ]
  },
  {
   "cell_type": "code",
   "execution_count": 6,
   "metadata": {},
   "outputs": [
    {
     "name": "stdout",
     "output_type": "stream",
     "text": [
      "0\n",
      "1\n",
      "2\n",
      "3\n",
      "4\n",
      "Boucle terminée sans interruption\n",
      "0\n",
      "1\n",
      "2\n",
      "3\n",
      "4\n",
      "Boucle while terminée sans interruption\n"
     ]
    }
   ],
   "source": [
    "#else\n",
    "#Le bloc else est exécuté lorsque la boucle se termine sans interruption par un break.\n",
    "for number in range(5):\n",
    "    print(number)\n",
    "else:\n",
    "    print(\"Boucle terminée sans interruption\")\n",
    "\n",
    "count = 0\n",
    "while count < 5:\n",
    "    print(count)\n",
    "    count += 1\n",
    "else:\n",
    "    print(\"Boucle while terminée sans interruption\")\n"
   ]
  },
  {
   "cell_type": "code",
   "execution_count": 7,
   "metadata": {},
   "outputs": [
    {
     "name": "stdout",
     "output_type": "stream",
     "text": [
      "2 est un nombre premier\n",
      "3 est un nombre premier\n",
      "4 egale 2 * 2.0\n",
      "5 est un nombre premier\n",
      "6 egale 2 * 3.0\n",
      "7 est un nombre premier\n"
     ]
    }
   ],
   "source": [
    "for n in range(2, 8):\n",
    "    for x in range(2, n):\n",
    "        if n % x == 0:\n",
    "            print(n, \"egale\", x, \"*\", n/x)\n",
    "            break\n",
    "    else:\n",
    "        print(n, \"est un nombre premier\")"
   ]
  },
  {
   "cell_type": "markdown",
   "metadata": {},
   "source": [
    "Boucle avec Compréhension de Liste\n",
    "Les compréhensions de liste fournissent un moyen concis de créer des listes en utilisant des boucles for."
   ]
  },
  {
   "cell_type": "code",
   "execution_count": 8,
   "metadata": {},
   "outputs": [
    {
     "name": "stdout",
     "output_type": "stream",
     "text": [
      "[0, 1, 4, 9, 16, 25, 36, 49, 64, 81]\n"
     ]
    }
   ],
   "source": [
    "squares = [x ** 2 for x in range(10)]\n",
    "print(squares)\n"
   ]
  },
  {
   "cell_type": "markdown",
   "metadata": {},
   "source": [
    "Boucles Emboîtées\n",
    "Les boucles peuvent être imbriquées pour parcourir des structures de données complexes, comme des listes de listes."
   ]
  },
  {
   "cell_type": "code",
   "execution_count": 13,
   "metadata": {},
   "outputs": [
    {
     "name": "stdout",
     "output_type": "stream",
     "text": [
      "1 2 3  \n",
      "4 5 6  \n",
      "7 8 9  \n"
     ]
    }
   ],
   "source": [
    "matrix = [[1, 2, 3], [4, 5, 6], [7, 8, 9]]\n",
    "for row in matrix:\n",
    "    for element in row:\n",
    "        print(element, end=\" \")\n",
    "    print(\" \")\n"
   ]
  },
  {
   "cell_type": "markdown",
   "metadata": {},
   "source": [
    "Utilisation de itertools pour des Boucles Avancées\n",
    "Le module itertools propose des outils puissants pour manipuler les itérables. Par exemple, itertools.chain permet de combiner plusieurs itérables."
   ]
  },
  {
   "cell_type": "code",
   "execution_count": 14,
   "metadata": {},
   "outputs": [
    {
     "name": "stdout",
     "output_type": "stream",
     "text": [
      "[1, 2, 3, 4]\n"
     ]
    }
   ],
   "source": [
    "import itertools\n",
    "\n",
    "combined = itertools.chain([1, 2], [3, 4])\n",
    "print(list(combined))\n"
   ]
  },
  {
   "cell_type": "code",
   "execution_count": null,
   "metadata": {},
   "outputs": [],
   "source": []
  }
 ],
 "metadata": {
  "kernelspec": {
   "display_name": "Python 3",
   "language": "python",
   "name": "python3"
  },
  "language_info": {
   "codemirror_mode": {
    "name": "ipython",
    "version": 3
   },
   "file_extension": ".py",
   "mimetype": "text/x-python",
   "name": "python",
   "nbconvert_exporter": "python",
   "pygments_lexer": "ipython3",
   "version": "3.12.1"
  }
 },
 "nbformat": 4,
 "nbformat_minor": 2
}
