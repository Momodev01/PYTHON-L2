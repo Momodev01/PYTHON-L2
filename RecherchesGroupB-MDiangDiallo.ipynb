{
 "cells": [
  {
   "cell_type": "markdown",
   "metadata": {},
   "source": [
    "# Recherches Groupe B"
   ]
  },
  {
   "cell_type": "markdown",
   "metadata": {},
   "source": [
    "### Les exceptions"
   ]
  },
  {
   "cell_type": "markdown",
   "metadata": {},
   "source": [
    "En python, une exception est une instance d'une classe héritée de BaseException. Dans un bloc try, la clause except traite non seulement la classe d'exception qu'elle mentionne, mais aussi toutes les classes dérivées de cette classe"
   ]
  },
  {
   "cell_type": "code",
   "execution_count": null,
   "metadata": {},
   "outputs": [],
   "source": [
    "try:\n",
    "    pass\n",
    "except Exception as e:\n",
    "    raise e"
   ]
  },
  {
   "cell_type": "markdown",
   "metadata": {},
   "source": []
  },
  {
   "cell_type": "markdown",
   "metadata": {},
   "source": [
    "### Les chaines de caracteres"
   ]
  },
  {
   "cell_type": "markdown",
   "metadata": {},
   "source": [
    "Python considère qu'une chaîne de caractères est un objet de la catégorie des séquences, lesquelles sont des collections ordonnées d'éléments. Cela signifie qu'elles sont tout simplement des objets qui représentent du texte"
   ]
  },
  {
   "cell_type": "markdown",
   "metadata": {},
   "source": [
    "- Affichage"
   ]
  },
  {
   "cell_type": "code",
   "execution_count": null,
   "metadata": {},
   "outputs": [],
   "source": [
    "prenom = \"Amadou\"\n",
    "print(prenom)"
   ]
  },
  {
   "cell_type": "markdown",
   "metadata": {},
   "source": []
  },
  {
   "cell_type": "markdown",
   "metadata": {},
   "source": [
    "Pour accéder à un caractère bien déterminé, on utilise le nom de la variable qui contient la chaîne, et on lui accole entre deux crochets l'index numérique qui correspond à la position du caractère dans la chaîne."
   ]
  },
  {
   "cell_type": "code",
   "execution_count": null,
   "metadata": {},
   "outputs": [],
   "source": [
    "print(prenom[0], prenom[3])"
   ]
  },
  {
   "cell_type": "markdown",
   "metadata": {},
   "source": [
    "- Longueur"
   ]
  },
  {
   "cell_type": "markdown",
   "metadata": {},
   "source": [
    "Déterminer la longueur (c'est-à-dire le nombre de caractères) d'une chaîne, en faisant appel à la fonction intégrée len() :"
   ]
  },
  {
   "cell_type": "code",
   "execution_count": null,
   "metadata": {},
   "outputs": [],
   "source": [
    "print(len(prenom))"
   ]
  },
  {
   "cell_type": "markdown",
   "metadata": {},
   "source": [
    "- Concatenation"
   ]
  },
  {
   "cell_type": "markdown",
   "metadata": {},
   "source": [
    "L'opération d'assembler plusieurs petites chaînes pour en construire une plus grande s'appelle concaténation et on la réalise sous Python à l'aide de l'opérateur \"+\". "
   ]
  },
  {
   "cell_type": "code",
   "execution_count": null,
   "metadata": {},
   "outputs": [],
   "source": [
    "prenom = \"Amadou\"\n",
    "nom = \"BA\"\n",
    "nomcplet = prenom + ' ' + nom\n",
    "print(nomcplet)"
   ]
  },
  {
   "cell_type": "markdown",
   "metadata": {},
   "source": [
    "En Python, la boucle WHILE permet de répéter une instruction plusieurs fois, tant qu'une condition est vraie."
   ]
  },
  {
   "cell_type": "code",
   "execution_count": null,
   "metadata": {},
   "outputs": [],
   "source": [
    "x = 0\n",
    "while x <= 5 :\n",
    "    print(prenom[x])\n",
    "    x = x+1"
   ]
  },
  {
   "cell_type": "markdown",
   "metadata": {},
   "source": [
    "- Fonctions et Methodes"
   ]
  },
  {
   "cell_type": "markdown",
   "metadata": {},
   "source": [
    "Python offre une variété de fonctions et méthodes pour manipuler les chaînes de caractères."
   ]
  },
  {
   "cell_type": "markdown",
   "metadata": {},
   "source": [
    "1. ##### Création et formatage de chaînes: \n",
    "    * **str()**: Convertit un objet en chaîne de caractères.`\n",
    "    * **format()**: Formate une chaîne de caractères en utilisant des spécificateurs de format.\n",
    "    * **f-string**: Formatage de chaîne avec des expressions évaluées en utilisant {}."
   ]
  },
  {
   "cell_type": "code",
   "execution_count": null,
   "metadata": {},
   "outputs": [],
   "source": [
    "prenom = \"Abdoulaye\"\n",
    "nom = \"Diop\"\n",
    "formate = \"Je m'appelle {} {}\".format(prenom, nom)\n",
    "print(formate)\n",
    "fString = f\"Je m'appelle {prenom} {nom}\"\n",
    "print(fString)"
   ]
  },
  {
   "cell_type": "markdown",
   "metadata": {},
   "source": [
    "2. ##### Méthodes de transformation de chaînes:\n",
    "    * **upper()**: Convertit tous les caractères d'une chaîne en majuscules.\n",
    "    * **lower()**: Convertit tous les caractères d'une chaîne en minuscules.\n",
    "    * **capitalize()**: Met en majuscule le premier caractère d'une chaîne.\n",
    "    * **title()**: Met en majuscule le premier caractère de chaque mot.\n",
    "    * **swapcase()**: Inverse la casse de chaque caractère dans la chaîne."
   ]
  },
  {
   "cell_type": "code",
   "execution_count": null,
   "metadata": {},
   "outputs": [],
   "source": [
    "texte = \"Hello WORLD\"\n",
    "print(texte.upper())\n",
    "print(texte.lower())\n",
    "print(texte.capitalize())\n",
    "print(texte.title())\n",
    "print(texte.swapcase())"
   ]
  },
  {
   "cell_type": "markdown",
   "metadata": {},
   "source": [
    "3. ##### Méthodes de recherche et de comptage\n",
    "    * **find(sub)**: Retourne l'indice de la première occurrence de sub dans la chaîne, ou -1 si non trouvée.\n",
    "    * **index(sub)**: Semblable à find(), mais lève une exception si sub n'est pas trouvée.\n",
    "    * **count(sub)**: Retourne le nombre d'occurrences de sub dans la chaîne.\n",
    "    * **startswith(prefix)**: Retourne True si la chaîne commence par prefix.\n",
    "    * **endswith(suffix)**: Retourne True si la chaîne se termine par suffix."
   ]
  },
  {
   "cell_type": "code",
   "execution_count": null,
   "metadata": {},
   "outputs": [],
   "source": [
    "texte = \"Hello WORLD\"\n",
    "print(texte.find(\"world\"))\n",
    "print(texte.index(\"o\"))\n",
    "print(texte.count(\"o\"))\n",
    "print(texte.startswith(\"H\"))\n",
    "print(texte.endswith('d'))"
   ]
  },
  {
   "cell_type": "markdown",
   "metadata": {},
   "source": [
    "4. ##### Méthodes de modification\n",
    "    * **replace(old, new)**: Remplace toutes les occurrences de old par new.\n",
    "    * **strip()**: Supprime les espaces au début et à la fin de la chaîne.\n",
    "    * **lstrip()**: Supprime les espaces au début de la chaîne.\n",
    "    * **rstrip()**: Supprime les espaces à la fin de la chaîne.\n",
    "    * **split(sep)**: Divise la chaîne en une liste de sous-chaînes en utilisant sep comme séparateur."
   ]
  },
  {
   "cell_type": "code",
   "execution_count": null,
   "metadata": {},
   "outputs": [],
   "source": [
    "texte = \"  Hello, WORLD  \"\n",
    "print(texte.replace(\"WORLD\", \"Python\"))\n",
    "print(texte.lstrip())\n",
    "print(texte.rstrip())\n",
    "print(texte.strip())\n",
    "print(texte.split('l'))"
   ]
  },
  {
   "cell_type": "markdown",
   "metadata": {},
   "source": [
    "5. ##### Vérification de contenu\n",
    "    * **isalnum()**: Retourne True si tous les caractères de la chaîne sont alphanumériques.\n",
    "    * **isalpha()**: Retourne True si tous les caractères de la chaîne sont alphabétiques.\n",
    "    * **isdigit()**: Retourne True si tous les caractères de la chaîne sont des chiffres.\n",
    "    * **islower()**: Retourne True si tous les caractères de la chaîne sont en minuscules.\n",
    "    * **isupper()**: Retourne True si tous les caractères de la chaîne sont en majuscules.\n",
    "    * **isspace()**: Retourne True si tous les caractères de la chaîne sont des espaces."
   ]
  },
  {
   "cell_type": "code",
   "execution_count": null,
   "metadata": {},
   "outputs": [],
   "source": [
    "texte = \"ECOLE221\"\n",
    "print(texte.isalnum())\n",
    "print(texte.isalpha())\n",
    "print(texte.isdigit())\n",
    "print(texte.islower())\n",
    "print(texte.isupper())\n",
    "print(texte.isspace())"
   ]
  },
  {
   "cell_type": "markdown",
   "metadata": {},
   "source": [
    "### Les extractions de sous-chaines"
   ]
  },
  {
   "cell_type": "markdown",
   "metadata": {},
   "source": [
    "L'opérateur d'indiçage ([]) permet aussi de sélectionner des sous-chaines selon leurs indices. On appelle cette technique le slicing (« découpage en tranches »)."
   ]
  },
  {
   "cell_type": "code",
   "execution_count": null,
   "metadata": {},
   "outputs": [],
   "source": [
    "liste = [0, 1, 2, 3, 4,  5, 6, 7,  8, 9]\n",
    "print(liste[1:3])\n",
    "print(liste[:3])\n",
    "print(liste[::2])"
   ]
  },
  {
   "cell_type": "code",
   "execution_count": null,
   "metadata": {},
   "outputs": [],
   "source": []
  }
 ],
 "metadata": {
  "kernelspec": {
   "display_name": "Python 3",
   "language": "python",
   "name": "python3"
  },
  "language_info": {
   "codemirror_mode": {
    "name": "ipython",
    "version": 3
   },
   "file_extension": ".py",
   "mimetype": "text/x-python",
   "name": "python",
   "nbconvert_exporter": "python",
   "pygments_lexer": "ipython3",
   "version": "3.12.1"
  }
 },
 "nbformat": 4,
 "nbformat_minor": 2
}
