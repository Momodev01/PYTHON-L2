{
 "cells": [
  {
   "cell_type": "markdown",
   "metadata": {},
   "source": [
    "## Opération de cast"
   ]
  },
  {
   "cell_type": "markdown",
   "metadata": {},
   "source": []
  },
  {
   "cell_type": "markdown",
   "metadata": {},
   "source": []
  },
  {
   "cell_type": "code",
   "execution_count": null,
   "metadata": {},
   "outputs": [],
   "source": [
    "a = int(input(\"Saisissez un entier: \"))\n",
    "b = int(input(\"Saisissez un autre: \"))\n",
    "print(\n",
    "    \"Le quotient entier est: \", a//b ,\"\\n\"\n",
    "    \"Le reste est: \", a%b ,\"\\n\"\n",
    "    \"Le quotient réel est: \", a/b ,\"\\n\"\n",
    "    \"Le modulo est: \", a%b\n",
    ")"
   ]
  },
  {
   "cell_type": "code",
   "execution_count": 47,
   "metadata": {},
   "outputs": [
    {
     "data": {
      "text/plain": [
       "'reitne nu zessisiaS'"
      ]
     },
     "execution_count": 47,
     "metadata": {},
     "output_type": "execute_result"
    }
   ],
   "source": [
    "c=\"Saisissez un entier\"\n",
    "c[::-1]"
   ]
  },
  {
   "cell_type": "code",
   "execution_count": null,
   "metadata": {},
   "outputs": [],
   "source": []
  },
  {
   "cell_type": "code",
   "execution_count": 2,
   "metadata": {},
   "outputs": [],
   "source": [
    "# Saisir deux nombres entiers\n",
    "m = (input(\"Entrez le premier nombre: \"))\n",
    "int(m)\n",
    "# Chercher les diviseurs de chaque nombre\n",
    "def diviseurs(m):\n",
    "    div = [i for i in range(2, m) if m % i == 0]\n",
    "    print (div)"
   ]
  },
  {
   "cell_type": "code",
   "execution_count": 6,
   "metadata": {},
   "outputs": [
    {
     "name": "stdout",
     "output_type": "stream",
     "text": [
      ". . . . . . . . . . . . . . . . . . . . . . . . . . . . . . . . . . . . . . . . . . . . . . . . . . . . . . . . . . . . . . . . . . . . . . . . . . . . . . . . . . . . . . . . . . . . . . . . . . . . "
     ]
    }
   ],
   "source": [
    "for i in range(100):\n",
    "    print('.',end=\" \")"
   ]
  },
  {
   "cell_type": "markdown",
   "metadata": {},
   "source": [
    "## GROUPE B\n",
    "1. ➢ Les exceptions\n",
    "Les exceptions\n",
    "2. ➢ Les chaines de caractère\n",
    "    * ✓ Affichage\n",
    "    * ✓ Longueur\n",
    "    * ✓ Concatenation\n",
    "    * ✓ Repetition (Multiplication)\n",
    "    * ✓ Fonctions & méthodes\n",
    "        • Comment les utiliser\n",
    "        • Donnez quelques exemples\n",
    "3.  ✓ Extraction de sous-chaînes\n"
   ]
  },
  {
   "cell_type": "markdown",
   "metadata": {},
   "source": []
  },
  {
   "cell_type": "code",
   "execution_count": null,
   "metadata": {},
   "outputs": [],
   "source": []
  },
  {
   "cell_type": "code",
   "execution_count": 4,
   "metadata": {},
   "outputs": [
    {
     "name": "stdout",
     "output_type": "stream",
     "text": [
      "Doudou et Fatou\n"
     ]
    }
   ],
   "source": [
    "print(\"Doudou\",\"Fatou\",sep=\" et \")"
   ]
  },
  {
   "cell_type": "code",
   "execution_count": 26,
   "metadata": {},
   "outputs": [
    {
     "name": "stdout",
     "output_type": "stream",
     "text": [
      "3\n"
     ]
    }
   ],
   "source": [
    "def add(*t):\n",
    "    \n",
    "    print(len(t))\n",
    "    \n",
    "add(9,6,8)"
   ]
  },
  {
   "cell_type": "code",
   "execution_count": 24,
   "metadata": {},
   "outputs": [
    {
     "name": "stdout",
     "output_type": "stream",
     "text": [
      "3.141592653589793\n"
     ]
    }
   ],
   "source": [
    "from math import pi\n",
    "print(math.pi)"
   ]
  }
 ],
 "metadata": {
  "kernelspec": {
   "display_name": "Python 3",
   "language": "python",
   "name": "python3"
  },
  "language_info": {
   "codemirror_mode": {
    "name": "ipython",
    "version": 3
   },
   "file_extension": ".py",
   "mimetype": "text/x-python",
   "name": "python",
   "nbconvert_exporter": "python",
   "pygments_lexer": "ipython3",
   "version": "3.12.1"
  }
 },
 "nbformat": 4,
 "nbformat_minor": 2
}
